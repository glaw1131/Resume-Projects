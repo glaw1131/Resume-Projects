{
 "cells": [
  {
   "cell_type": "code",
   "execution_count": 1,
   "metadata": {},
   "outputs": [
    {
     "name": "stdout",
     "output_type": "stream",
     "text": [
      "[0.50191 0.50081 0.50031 0.49922 0.49887 0.50044 0.49881 0.49997 0.49869\n",
      " 0.50007]\n"
     ]
    }
   ],
   "source": [
    "# Garrett Lawson, 2023\n",
    "# MATH381\n",
    "\n",
    "import random\n",
    "import math\n",
    "import numpy as np\n",
    "import matplotlib.pyplot as plt\n",
    "\n",
    "class Player:\n",
    "    \n",
    "    def __init__(self, score):\n",
    "        self.score = score\n",
    "        \n",
    "WIN_SCORE = 30\n",
    "MAX_TURNS = 30\n",
    "\n",
    "numPlayers = 2 # Two player game. We could potentially change the game to include more than two\n",
    "                # players but the current code only supports two.\n",
    "numGames = 100000\n",
    "numTrials = 10\n",
    "\n",
    "Player0WRs = np.zeros(numTrials)\n",
    "#simRates = np.zeros((numTrials, int(numGames/100)-1)) # make sure numGames divisible by 100\n",
    "\n",
    "for trial in range(numTrials):\n",
    "\n",
    "    wins = np.zeros(numPlayers)\n",
    "    \n",
    "    for game in range(numGames): # game loop\n",
    "\n",
    "        ### initialize players\n",
    "        players = []\n",
    "        for i in range(numPlayers):\n",
    "            players.append(Player(0))\n",
    "\n",
    "        #### Start playing the game\n",
    "        currentTurn = 1\n",
    "        currentPlayer = game % numPlayers ### start with a different player each time\n",
    "        #print(\"Scores: [0, 0]\")\n",
    "        while(currentTurn<=MAX_TURNS):\n",
    "\n",
    "            # each player takes a turn\n",
    "            # roll the die\n",
    "            dieRoll = random.randint(1, 6)\n",
    "            #print(\"Player \" + str(currentPlayer) + \" rolls a \" + str(dieRoll))\n",
    "\n",
    "            # Player either adds to their score or subtracts from opponent's score\n",
    "            if (currentPlayer in [0]):\n",
    "                # Strategy for this player: \n",
    "                # Always add\n",
    "                players[0].score+=dieRoll\n",
    "\n",
    "            if (currentPlayer in [1]):\n",
    "                # Strategy for this player: \n",
    "                # Always add \n",
    "                players[1].score+=dieRoll\n",
    "\n",
    "            # print the scores for each turn\n",
    "            #print(\"Scores: [\" + str(players[0].score) + \", \" + str(players[1].score) + \"]\")\n",
    "\n",
    "            # If the current player has reached the goal score, they win   \n",
    "            if (players[currentPlayer].score>=WIN_SCORE):\n",
    "                wins[currentPlayer]+=1\n",
    "                #print(\"Player \" + str(currentPlayer) + \" wins!\")\n",
    "                #print(\"Scores: [\" + str(players[0].score) + \", \" + str(players[1].score) + \"]\")\n",
    "                break\n",
    "            elif (currentTurn==MAX_TURNS): # If we reach max turns, whoever has higher score wins\n",
    "                if (players[0].score>players[1].score):\n",
    "                    wins[0]+=1\n",
    "                elif (players[1].score>players[0].score):\n",
    "                    wins[1]+=1\n",
    "                else:\n",
    "                    wins[0]+=0.5\n",
    "                    wins[1]+=0.5\n",
    "                break\n",
    "\n",
    "            # next turn\n",
    "            currentPlayer = (currentPlayer+1) % numPlayers\n",
    "            currentTurn += 1\n",
    "\n",
    "        ## game is over\n",
    "\n",
    "        # print win probability for player 0 every so often\n",
    "        #if ((game % 10000==0) and (game>0)):\n",
    "         #   print(wins[0]*1./game)\n",
    "            \n",
    "        \"\"\"if ((game % 100==0) and (game>0)):\n",
    "            simRates[trial][int(game/100)-1] = wins[0]*1./(game+1)\"\"\"\n",
    "            \n",
    "\n",
    "    ## output win percentage for all players\n",
    "    \"\"\"print(\"-------------------\")\n",
    "    print(\"Stats Over All Games\")\n",
    "\n",
    "    print(wins)        \n",
    "\n",
    "    for i in range(numPlayers):\n",
    "        print(i, \" \", wins[i]*1./numGames)\"\"\"\n",
    "    \n",
    "    Player0WRs[trial] = wins[0]*1./numGames\n",
    "\n",
    "print(Player0WRs)"
   ]
  },
  {
   "cell_type": "code",
   "execution_count": 2,
   "metadata": {},
   "outputs": [
    {
     "name": "stdout",
     "output_type": "stream",
     "text": [
      "0.50191\n",
      "0.49869\n"
     ]
    }
   ],
   "source": [
    "print(max(Player0WRs))\n",
    "print(min(Player0WRs))"
   ]
  },
  {
   "cell_type": "code",
   "execution_count": 48,
   "metadata": {},
   "outputs": [
    {
     "data": {
      "text/plain": [
       "'for i in range(numTrials):\\n    plt.plot(simRates[i])\\nplt.show()'"
      ]
     },
     "execution_count": 48,
     "metadata": {},
     "output_type": "execute_result"
    }
   ],
   "source": [
    "\"\"\"for i in range(numTrials):\n",
    "    plt.plot(simRates[i])\n",
    "plt.show()\"\"\""
   ]
  },
  {
   "cell_type": "code",
   "execution_count": 68,
   "metadata": {},
   "outputs": [
    {
     "data": {
      "image/png": "[encoded data removed]",
      "text/plain": [
       "<Figure size 432x288 with 1 Axes>"
      ]
     },
     "metadata": {
      "needs_background": "light"
     },
     "output_type": "display_data"
    }
   ],
   "source": [
    "\"\"\"counts, bins = np.histogram(Player0WRs)\n",
    "plt.hist(bins[:-1], bins, weights=counts, histtype='bar', edgecolor='k', color='dimgray')\n",
    "plt.show()\"\"\""
   ]
  },
  {
   "cell_type": "code",
   "execution_count": null,
   "metadata": {},
   "outputs": [],
   "source": []
  }
 ],
 "metadata": {
  "kernelspec": {
   "display_name": "Python 3",
   "language": "python",
   "name": "python3"
  },
  "language_info": {
   "codemirror_mode": {
    "name": "ipython",
    "version": 3
   },
   "file_extension": ".py",
   "mimetype": "text/x-python",
   "name": "python",
   "nbconvert_exporter": "python",
   "pygments_lexer": "ipython3",
   "version": "3.8.5"
  }
 },
 "nbformat": 4,
 "nbformat_minor": 4
}
